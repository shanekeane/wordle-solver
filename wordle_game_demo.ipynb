{
 "cells": [
  {
   "cell_type": "code",
   "execution_count": 1,
   "id": "86de4ff7",
   "metadata": {},
   "outputs": [],
   "source": [
    "from wordle.wordle import play_wordle"
   ]
  },
  {
   "cell_type": "code",
   "execution_count": 2,
   "id": "2e1ec861",
   "metadata": {},
   "outputs": [
    {
     "name": "stdout",
     "output_type": "stream",
     "text": [
      "1. > adieu\n",
      "\u001b[30ma\u001b[0m \u001b[30md\u001b[0m \u001b[30mi\u001b[0m \u001b[30me\u001b[0m \u001b[30mu\u001b[0m \n",
      "\n",
      "REMAINING LETTERS: b c f g h j k l m n o p q r s t v w x y z \n",
      "\n",
      "2. > strop\n",
      "\u001b[30ms\u001b[0m \u001b[30mt\u001b[0m \u001b[33mr\u001b[0m \u001b[33mo\u001b[0m \u001b[30mp\u001b[0m \n",
      "\n",
      "REMAINING LETTERS: b c f g h j k l m n q v w x y z \n",
      "\n",
      "3. > outer\n",
      "Not a valid word. Guess again.\n",
      "\n",
      "3. > roomy\n",
      "\u001b[33mr\u001b[0m \u001b[30mo\u001b[0m \u001b[32mo\u001b[0m \u001b[30mm\u001b[0m \u001b[30my\u001b[0m \n",
      "\n",
      "REMAINING LETTERS: b c f g h j k l n q v w x z \n",
      "\n",
      "4. > crock\n",
      "\u001b[30mc\u001b[0m \u001b[32mr\u001b[0m \u001b[32mo\u001b[0m \u001b[30mc\u001b[0m \u001b[30mk\u001b[0m \n",
      "\n",
      "REMAINING LETTERS: b f g h j l n q v w x z \n",
      "\n",
      "5. > frown\n",
      "\u001b[32mf\u001b[0m \u001b[32mr\u001b[0m \u001b[32mo\u001b[0m \u001b[32mw\u001b[0m \u001b[32mn\u001b[0m \n",
      "\n",
      "YOU HAVE WON!\n"
     ]
    }
   ],
   "source": [
    "play_wordle(hard_mode = True)"
   ]
  }
 ],
 "metadata": {
  "kernelspec": {
   "display_name": "Python 3 (ipykernel)",
   "language": "python",
   "name": "python3"
  },
  "language_info": {
   "codemirror_mode": {
    "name": "ipython",
    "version": 3
   },
   "file_extension": ".py",
   "mimetype": "text/x-python",
   "name": "python",
   "nbconvert_exporter": "python",
   "pygments_lexer": "ipython3",
   "version": "3.8.10"
  }
 },
 "nbformat": 4,
 "nbformat_minor": 5
}
