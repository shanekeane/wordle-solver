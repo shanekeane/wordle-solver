{
 "cells": [
  {
   "cell_type": "code",
   "execution_count": 3,
   "id": "86de4ff7",
   "metadata": {},
   "outputs": [],
   "source": [
    "from wordle.wordle import play_wordle"
   ]
  },
  {
   "cell_type": "code",
   "execution_count": 4,
   "id": "2e1ec861",
   "metadata": {},
   "outputs": [
    {
     "name": "stdout",
     "output_type": "stream",
     "text": [
      "WELCOME TO WORDLE. TYPE xxx TO REVEAL ANSWER\n",
      "1. > adieu\n",
      "\u001b[30ma\u001b[0m \u001b[30md\u001b[0m \u001b[32mi\u001b[0m \u001b[30me\u001b[0m \u001b[30mu\u001b[0m \n",
      "\n",
      "REMAINING LETTERS: b c f g h j k l m n o p q r s t v w x y z \n",
      "\n",
      "2. > bring\n",
      "\u001b[30mb\u001b[0m \u001b[32mr\u001b[0m \u001b[32mi\u001b[0m \u001b[30mn\u001b[0m \u001b[30mg\u001b[0m \n",
      "\n",
      "REMAINING LETTERS: c f h j k l m o p q s t v w x y z \n",
      "\n",
      "3. > crisp\n",
      "\u001b[30mc\u001b[0m \u001b[32mr\u001b[0m \u001b[32mi\u001b[0m \u001b[30ms\u001b[0m \u001b[30mp\u001b[0m \n",
      "\n",
      "REMAINING LETTERS: f h j k l m o q t v w x y z \n",
      "\n",
      "4. > oriol\n",
      "Not a valid word. Guess again.\n",
      "\n",
      "4. > trill\n",
      "\u001b[30mt\u001b[0m \u001b[32mr\u001b[0m \u001b[32mi\u001b[0m \u001b[32ml\u001b[0m \u001b[32ml\u001b[0m \n",
      "\n",
      "REMAINING LETTERS: f h j k m o q v w x y z \n",
      "\n",
      "5. > xxx\n",
      "The word was frill\n"
     ]
    }
   ],
   "source": [
    "play_wordle(hard_mode = True)"
   ]
  },
  {
   "cell_type": "code",
   "execution_count": null,
   "id": "bee458bc",
   "metadata": {},
   "outputs": [],
   "source": []
  }
 ],
 "metadata": {
  "kernelspec": {
   "display_name": "Python 3 (ipykernel)",
   "language": "python",
   "name": "python3"
  },
  "language_info": {
   "codemirror_mode": {
    "name": "ipython",
    "version": 3
   },
   "file_extension": ".py",
   "mimetype": "text/x-python",
   "name": "python",
   "nbconvert_exporter": "python",
   "pygments_lexer": "ipython3",
   "version": "3.8.10"
  }
 },
 "nbformat": 4,
 "nbformat_minor": 5
}
