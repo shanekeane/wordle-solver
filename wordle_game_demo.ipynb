{
 "cells": [
  {
   "cell_type": "code",
   "execution_count": 1,
   "id": "86de4ff7",
   "metadata": {},
   "outputs": [],
   "source": [
    "import numpy as np\n",
    "from termcolor import colored\n",
    "import string\n",
    "from wordle.wordle import play_wordle"
   ]
  },
  {
   "cell_type": "code",
   "execution_count": 3,
   "id": "2e1ec861",
   "metadata": {},
   "outputs": [
    {
     "name": "stdout",
     "output_type": "stream",
     "text": [
      "1. > adieu\n",
      "\u001b[30ma\u001b[0m \u001b[30md\u001b[0m \u001b[30mi\u001b[0m \u001b[30me\u001b[0m \u001b[30mu\u001b[0m \n",
      "\n",
      "REMAINING LETTERS: b c f g h j k l m n o p q r s t v w x y z \n",
      "\n",
      "2. > joust\n",
      "\u001b[30mj\u001b[0m \u001b[33mo\u001b[0m \u001b[30mu\u001b[0m \u001b[30ms\u001b[0m \u001b[30mt\u001b[0m \n",
      "\n",
      "REMAINING LETTERS: b c f g h k l m n p q r v w x y z \n",
      "\n",
      "3. > broom\n",
      "\u001b[32mb\u001b[0m \u001b[30mr\u001b[0m \u001b[32mo\u001b[0m \u001b[30mo\u001b[0m \u001b[30mm\u001b[0m \n",
      "\n",
      "REMAINING LETTERS: c f g h k l n p q v w x y z \n",
      "\n",
      "4. > block\n",
      "\u001b[32mb\u001b[0m \u001b[32ml\u001b[0m \u001b[32mo\u001b[0m \u001b[30mc\u001b[0m \u001b[30mk\u001b[0m \n",
      "\n",
      "REMAINING LETTERS: f g h n p q v w x y z \n",
      "\n",
      "5. > blowy\n",
      "\u001b[32mb\u001b[0m \u001b[32ml\u001b[0m \u001b[32mo\u001b[0m \u001b[32mw\u001b[0m \u001b[30my\u001b[0m \n",
      "\n",
      "REMAINING LETTERS: f g h n p q v x z \n",
      "\n",
      "6. > blown\n",
      "\u001b[32mb\u001b[0m \u001b[32ml\u001b[0m \u001b[32mo\u001b[0m \u001b[32mw\u001b[0m \u001b[32mn\u001b[0m \n",
      "\n",
      "YOU HAVE WON!\n"
     ]
    }
   ],
   "source": [
    "play_wordle()"
   ]
  },
  {
   "cell_type": "code",
   "execution_count": null,
   "id": "f21f8379",
   "metadata": {},
   "outputs": [],
   "source": []
  }
 ],
 "metadata": {
  "kernelspec": {
   "display_name": "Python 3 (ipykernel)",
   "language": "python",
   "name": "python3"
  },
  "language_info": {
   "codemirror_mode": {
    "name": "ipython",
    "version": 3
   },
   "file_extension": ".py",
   "mimetype": "text/x-python",
   "name": "python",
   "nbconvert_exporter": "python",
   "pygments_lexer": "ipython3",
   "version": "3.8.10"
  }
 },
 "nbformat": 4,
 "nbformat_minor": 5
}
