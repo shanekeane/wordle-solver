{
 "cells": [
  {
   "cell_type": "code",
   "execution_count": 1,
   "id": "86de4ff7",
   "metadata": {},
   "outputs": [],
   "source": [
    "from wordle.wordle import play_wordle"
   ]
  },
  {
   "cell_type": "code",
   "execution_count": 2,
   "id": "2e1ec861",
   "metadata": {},
   "outputs": [
    {
     "name": "stdout",
     "output_type": "stream",
     "text": [
      "1. > adieu\n",
      "\u001b[33ma\u001b[0m \u001b[30md\u001b[0m \u001b[30mi\u001b[0m \u001b[33me\u001b[0m \u001b[30mu\u001b[0m \n",
      "\n",
      "REMAINING LETTERS: b c f g h j k l m n o p q r s t v w x y z \n",
      "\n",
      "2. > beast\n",
      "\u001b[30mb\u001b[0m \u001b[32me\u001b[0m \u001b[32ma\u001b[0m \u001b[30ms\u001b[0m \u001b[32mt\u001b[0m \n",
      "\n",
      "REMAINING LETTERS: c f g h j k l m n o p q r v w x y z \n",
      "\n",
      "3. > heard\n",
      "\u001b[30mh\u001b[0m \u001b[32me\u001b[0m \u001b[32ma\u001b[0m \u001b[30mr\u001b[0m \u001b[30md\u001b[0m \n",
      "\n",
      "REMAINING LETTERS: c f g j k l m n o p q v w x y z \n",
      "\n",
      "4. > heart\n",
      "\u001b[30mh\u001b[0m \u001b[32me\u001b[0m \u001b[32ma\u001b[0m \u001b[30mr\u001b[0m \u001b[32mt\u001b[0m \n",
      "\n",
      "REMAINING LETTERS: c f g j k l m n o p q v w x y z \n",
      "\n",
      "5. > leant\n",
      "\u001b[32ml\u001b[0m \u001b[32me\u001b[0m \u001b[32ma\u001b[0m \u001b[30mn\u001b[0m \u001b[32mt\u001b[0m \n",
      "\n",
      "REMAINING LETTERS: c f g j k m o p q v w x y z \n",
      "\n",
      "6. > leapt\n",
      "\u001b[32ml\u001b[0m \u001b[32me\u001b[0m \u001b[32ma\u001b[0m \u001b[32mp\u001b[0m \u001b[32mt\u001b[0m \n",
      "\n",
      "YOU HAVE WON!\n"
     ]
    }
   ],
   "source": [
    "play_wordle()"
   ]
  },
  {
   "cell_type": "code",
   "execution_count": 3,
   "id": "1ca82520",
   "metadata": {},
   "outputs": [],
   "source": [
    "import string"
   ]
  },
  {
   "cell_type": "code",
   "execution_count": 7,
   "id": "ce77ab3a",
   "metadata": {},
   "outputs": [
    {
     "data": {
      "text/plain": [
       "<module 'string' from '/usr/lib/python3.8/string.py'>"
      ]
     },
     "execution_count": 7,
     "metadata": {},
     "output_type": "execute_result"
    }
   ],
   "source": [
    "string"
   ]
  },
  {
   "cell_type": "code",
   "execution_count": null,
   "id": "6504bba3",
   "metadata": {},
   "outputs": [],
   "source": []
  }
 ],
 "metadata": {
  "kernelspec": {
   "display_name": "Python 3 (ipykernel)",
   "language": "python",
   "name": "python3"
  },
  "language_info": {
   "codemirror_mode": {
    "name": "ipython",
    "version": 3
   },
   "file_extension": ".py",
   "mimetype": "text/x-python",
   "name": "python",
   "nbconvert_exporter": "python",
   "pygments_lexer": "ipython3",
   "version": "3.8.10"
  }
 },
 "nbformat": 4,
 "nbformat_minor": 5
}
